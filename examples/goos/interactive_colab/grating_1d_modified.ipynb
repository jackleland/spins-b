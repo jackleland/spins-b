{
 "cells": [
  {
   "cell_type": "markdown",
   "metadata": {},
   "source": [
    "# Notebook to attempt a simulation of generated microstructures"
   ]
  },
  {
   "cell_type": "code",
   "execution_count": null,
   "metadata": {
    "colab": {},
    "colab_type": "code",
    "id": "STcjCA-CHWoN"
   },
   "outputs": [],
   "source": [
    "import datetime\n",
    "import logging\n",
    "import dataclasses\n",
    "import os\n",
    "import sys\n",
    "import pickle\n",
    "from typing import Optional, Tuple, Union\n",
    "\n",
    "import matplotlib.pyplot as plt\n",
    "import numpy as np\n",
    "\n",
    "from spins import goos\n",
    "from spins.goos_sim import maxwell\n"
   ]
  },
  {
   "cell_type": "code",
   "execution_count": null,
   "metadata": {
    "colab": {},
    "colab_type": "code",
    "id": "yq412alzLhaM"
   },
   "outputs": [],
   "source": [
    "# set-up with saving folder, and optimization plan\n",
    "out_folder_name = \"grating_full_opt_gpu_\" + datetime.datetime.now().strftime(\"%Y%m%d-%H%M%S\") #The folder will be saved in My Drive of the google drive. \n",
    "folder_plt = out_folder_name #Plotting folder is separately here, in case one wishes to plot from another folder. \n",
    "out_folder = os.path.join(os.getcwd(),out_folder_name)\n",
    "if (not os.path.exists(out_folder)):\n",
    "  os.makedirs(out_folder)\n",
    "\n",
    "goos.util.setup_logging(out_folder)\n",
    "plan = goos.OptimizationPlan(save_path = out_folder)"
   ]
  },
  {
   "cell_type": "code",
   "execution_count": null,
   "metadata": {},
   "outputs": [],
   "source": [
    "out_folder"
   ]
  },
  {
   "cell_type": "code",
   "execution_count": null,
   "metadata": {},
   "outputs": [],
   "source": [
    "# Major params\n",
    "theta = np.radians(60)\n",
    "L = 900 #nm\n",
    "h = 325"
   ]
  },
  {
   "cell_type": "code",
   "execution_count": null,
   "metadata": {},
   "outputs": [],
   "source": [
    "P = L / np.sin(theta)\n",
    "# P = np.ceil(P).astype('int')\n",
    "P"
   ]
  },
  {
   "cell_type": "code",
   "execution_count": null,
   "metadata": {},
   "outputs": [],
   "source": [
    "p = P / 256\n",
    "p"
   ]
  },
  {
   "cell_type": "code",
   "execution_count": null,
   "metadata": {},
   "outputs": [],
   "source": [
    "H = 325 + 325 + 325 + 25\n",
    "H"
   ]
  },
  {
   "cell_type": "code",
   "execution_count": null,
   "metadata": {
    "colab": {},
    "colab_type": "code",
    "id": "KlzwmyRXLnpB"
   },
   "outputs": [],
   "source": [
    "# set - up variables needed for grating. \n",
    "\n",
    "@dataclasses.dataclass\n",
    "class Options:\n",
    "    \"\"\"Maintains list of options for the optimization.\n",
    "\n",
    "    Attributes:\n",
    "        coupler_len: Length of the grating coupler.\n",
    "        wg_width: Width of the grating coupler. Only relevant for GDS file\n",
    "            generation.\n",
    "        wg_len: Length of the waveguide to which the grating coupler couples.\n",
    "        wg_thickness: Thickness of the waveguide.\n",
    "        etch_frac: Etch fraction of the grating.\n",
    "        min_features: Minimum feature sizes.\n",
    "        box_size: Thickness of the buried oxide layer.\n",
    "        source_angle_deg: Angle of the Gaussian beam in degrees relative to\n",
    "            the normal.\n",
    "\n",
    "        buffer_len: Additional distance to add to the top and bottom of the\n",
    "            simulation for simulation accuracy.\n",
    "\n",
    "        eps_bg: Refractive index of the background.\n",
    "        eps_fg: Refraction index of the waveguide/grating.\n",
    "\n",
    "        beam_dist: Distance of the Gaussian beam from the grating.\n",
    "        beam_width: Diameter of the Gaussian beam.\n",
    "        beam_extents: Length of the Gaussian beam to use in the simulation.\n",
    "\n",
    "        wlen: Wavelength to simulate at.\n",
    "        dx: Grid spacing to use in the simulation.\n",
    "        pixel_size: Pixel size of the continuous grating coupler\n",
    "            parametrization.\n",
    "    \"\"\"\n",
    "    # We want a 2D sim\n",
    "    coupler_len: float = P\n",
    "    grating_width: float = P\n",
    "    grating_len: float = 1\n",
    "    grating_thickness: float = h  # nm\n",
    "    box_size: float = h\n",
    "    source_angle_deg: float = 0\n",
    "    buffer_len: float = 25\n",
    "    eps_bg: float = 1.45\n",
    "    eps_grating: float = 3.62\n",
    "    eps_air: float = 1.00 \n",
    "    beam_dist: float = h + 25\n",
    "    beam_width: float = P\n",
    "    beam_extents: float = P\n",
    "    wlen: float = L\n",
    "    dx: float = 1\n",
    "    pixel_size: float = 1\n",
    "\n",
    "    etch_frac: float = 1.0\n",
    "    min_features: float = 4\n",
    "\n",
    "params = Options()"
   ]
  },
  {
   "cell_type": "code",
   "execution_count": null,
   "metadata": {},
   "outputs": [],
   "source": [
    "?goos.Cuboid"
   ]
  },
  {
   "cell_type": "code",
   "execution_count": null,
   "metadata": {
    "colab": {},
    "colab_type": "code",
    "id": "uwU9RJrTOlEb"
   },
   "outputs": [],
   "source": [
    "#set-up background shapes\n",
    "with plan:\n",
    "    air = goos.Cuboid(\n",
    "        pos=goos.Constant([h, 0, 0]),\n",
    "        extents=goos.Constant([h, P, 1]),\n",
    "        material=goos.material.Material(index=params.eps_air)\n",
    "    )\n",
    "\n",
    "    substrate = goos.Cuboid(\n",
    "            pos=goos.Constant([-h, 0, 0]),\n",
    "            extents=goos.Constant([h, P, 1]),\n",
    "            material=goos.material.Material(index=params.eps_bg)\n",
    "    )\n",
    "\n",
    "    structure = [1, 1, 1, 1, 1, 1, 1, 1, 1, 1, 1, -1, 1, 1, -1, 1, 1, 1, 1, -1, 1, 1, 1, 1, 1, 1, 1, 1, 1, 1, 1, 1, 1, 1, -1, -1, 1, 1, 1, 1, 1, 1, 1, 1, 1, 1, 1, 1, 1, 1, 1, 1, 1, 1, 1, 1, 1, 1, 1, 1, 1, 1, 1, 1, 1, 1, 1, 1, 1, 1, 1, 1, 1, 1, 1, 1, 1, 1, 1, 1, 1, -1, -1, 1, 1, 1, -1, 1, -1, 1, 1, -1, -1, -1, -1, -1, -1, -1, -1, -1, -1, -1, 1, -1, 1, -1, 1, -1, -1, 1, -1, -1, 1, 1, -1, -1, -1, -1, 1, 1, 1, -1, -1, -1, 1, 1, -1, 1, -1, -1, 1, 1, -1, 1, -1, -1, 1, 1, -1, 1, -1, -1, 1, -1, 1, -1, 1, -1, 1, -1, 1, -1, 1, 1, 1, -1, 1, 1, 1, -1, 1, -1, 1, 1, 1, 1, -1, 1, -1, 1, -1, 1, -1, 1, -1, 1, 1, -1, 1, -1, 1, 1, 1, -1, 1, -1, -1, 1, 1, -1, -1, 1, -1, 1, -1, 1, 1, -1, 1, 1, -1, 1, 1, 1, 1, 1, 1, 1, 1, 1, 1, 1, 1, 1, 1, 1, 1, 1, 1, 1, 1, 1, 1, 1, -1, -1, 1, 1, -1, -1, -1, 1, 1, 1, 1, 1, 1, 1, -1, 1, 1, 1, 1, 1, 1, 1, 1, 1, 1, 1, 1, 1, 1, 1, 1, 1]\n",
    "    blocks = []\n",
    "    for i, material in enumerate(structure):\n",
    "        if material == 1:\n",
    "            ri = params.eps_grating\n",
    "        else:\n",
    "            ri = params.eps_air\n",
    "\n",
    "        x_pos = -0.5 * (P - p - 2*i*p)\n",
    "        \n",
    "        block = goos.Cuboid(\n",
    "            pos=goos.Constant([0, x_pos, 0]),\n",
    "            extents=goos.Constant([h, p, 1]),\n",
    "            material=goos.material.Material(index=ri)\n",
    "        )\n",
    "        blocks.append(block)\n",
    "    \n",
    "    eps_structures = goos.GroupShape(blocks + [substrate, air])\n",
    "    "
   ]
  },
  {
   "cell_type": "code",
   "execution_count": null,
   "metadata": {},
   "outputs": [],
   "source": [
    "'''\n",
    "Visualize the constant background structures we just defined.\n",
    "'''\n",
    "with plan:\n",
    "  eps_rendered = maxwell.RenderShape(\n",
    "            eps_structures,\n",
    "            region=goos.Box3d(center=[0, 0, 0], extents=[P, P, 0]),\n",
    "            mesh=maxwell.UniformMesh(dx=p/8),\n",
    "            wavelength=900,\n",
    "        )\n",
    "  \n",
    "  goos.util.visualize_eps(eps_rendered.get().array[2])"
   ]
  },
  {
   "cell_type": "code",
   "execution_count": null,
   "metadata": {
    "colab": {},
    "colab_type": "code",
    "id": "nR-Mz8MHRz7y"
   },
   "outputs": [],
   "source": [
    "# set-up design area and finish eps we need. \n",
    "\n",
    "# with plan:        \n",
    "\n",
    "#     def initializer(size):\n",
    "#         return np.random.random(size)\n",
    "\n",
    "#     # Continuous optimization.\n",
    "#     var, design_cont = goos.pixelated_cont_shape(\n",
    "#         initializer=initializer,\n",
    "#         pos=goos.Constant([\n",
    "#             params.coupler_len / 2, 0,\n",
    "#             params.wg_thickness / 2 * (1 - params.etch_frac)\n",
    "#         ]),\n",
    "#         extents=[\n",
    "#             params.coupler_len, params.wg_width,\n",
    "#             params.wg_thickness * params.etch_frac\n",
    "#         ],\n",
    "#         material=goos.material.Material(index=params.eps_bg),\n",
    "#         material2=goos.material.Material(index=params.eps_wg),\n",
    "#         pixel_size=[\n",
    "#             params.pixel_size, params.wg_width, params.wg_thickness\n",
    "#         ])\n",
    "\n",
    "#     eps_cont = goos.GroupShape([substrate, waveguide, wg_bottom, design_cont])"
   ]
  },
  {
   "cell_type": "code",
   "execution_count": null,
   "metadata": {},
   "outputs": [],
   "source": [
    "with plan:\n",
    "    # Define wavelength and solver.\n",
    "    my_wavelength = 900\n",
    "    sim_z_extent = 1\n",
    "    solver_info = maxwell.MaxwellSolver(solver=\"maxwell_cg\",\n",
    "                                        err_thresh=1e-2)\n",
    "    pml_thickness = [0, 0, 400, 400, 400, 400]\n",
    "\n",
    "    # Define simulation space.\n",
    "    my_simulation_space = maxwell.SimulationSpace(\n",
    "        mesh=maxwell.UniformMesh(dx=p/8),\n",
    "        sim_region=goos.Box3d(\n",
    "            center=[0, 0, 0],\n",
    "            extents=[P, P, sim_z_extent],\n",
    "        ),\n",
    "        pml_thickness=pml_thickness,\n",
    "    )\n",
    "  \n",
    "    # Define a waveguide mode source.\n",
    "    my_sources = [maxwell.WaveguideModeSource(center=[0, -P/2, 0],\n",
    "                                              extents=[0, P, 1],\n",
    "                                              normal=[0, 1, 0],\n",
    "                                              mode_num=0,\n",
    "                                              power=1)]\n",
    "\n",
    "      \n",
    "    # Define simulation outputs.\n",
    "    my_outputs=[ maxwell.Epsilon(name=\"eps\"),\n",
    "                 maxwell.ElectricField(name=\"field\")]\n",
    "\n",
    "    # Setup the simulation object.\n",
    "    sim = maxwell.fdfd_simulation(\n",
    "        name=\"sim_cont\",\n",
    "        wavelength=L,\n",
    "        background=goos.material.Material(index=1.0),\n",
    "        eps=eps_structures,\n",
    "        simulation_space = my_simulation_space,\n",
    "        solver_info = solver_info,\n",
    "        sources = my_sources,\n",
    "        outputs= my_outputs\n",
    "    )"
   ]
  },
  {
   "cell_type": "code",
   "execution_count": null,
   "metadata": {
    "colab": {},
    "colab_type": "code",
    "id": "c6ax11iaSl-h"
   },
   "outputs": [],
   "source": [
    "# Set-up continuous optimization objective function with eps.\n",
    "# with plan:\n",
    "\n",
    "#     sim_left_x = -params.wg_len\n",
    "#     sim_right_x = params.coupler_len + params.buffer_len\n",
    "#     pml_thick = params.dx * 10\n",
    "#     sim_z_center = (params.wg_thickness / 2 + params.beam_dist -\n",
    "#                     params.box_size) / 2\n",
    "#     sim_z_extent = (params.wg_thickness + params.beam_dist + params.box_size +\n",
    "#                     2000 + pml_thick * 2)\n",
    "\n",
    "#     sources=[\n",
    "#             maxwell.GaussianSource(\n",
    "#                 w0=params.beam_width / 2,\n",
    "#                 center=[\n",
    "#                     params.coupler_len / 2, 0,\n",
    "#                     params.wg_thickness / 2 + params.beam_dist\n",
    "#                 ],\n",
    "#                 extents=[params.beam_extents, 0, 0],\n",
    "#                 normal=[0, 0, -1],\n",
    "#                 power=1,\n",
    "#                 theta=np.deg2rad(params.source_angle_deg),\n",
    "#                 psi=np.pi / 2,\n",
    "#                 polarization_angle=0,\n",
    "#                 normalize_by_sim=True)\n",
    "#         ]\n",
    "#     outputs=[\n",
    "#       maxwell.Epsilon(name=\"eps\"),\n",
    "#       maxwell.ElectricField(name=\"field\"),\n",
    "#       maxwell.WaveguideModeOverlap(name=\"overlap\",\n",
    "#                                    center=[-params.wg_len / 2, 0, 0],\n",
    "#                                    extents=[0, 1000, 2000],\n",
    "#                                    normal=[-1, 0, 0],\n",
    "#                                    mode_num=0,\n",
    "#                                    power=1),\n",
    "#      ]\n",
    "#     simulation_space=maxwell.SimulationSpace(\n",
    "#         mesh=maxwell.UniformMesh(dx=params.dx),\n",
    "#         sim_region=goos.Box3d(\n",
    "#             center=[(sim_left_x + sim_right_x) / 2, 0, sim_z_center],\n",
    "#             extents=[sim_right_x - sim_left_x, 0, sim_z_extent],\n",
    "#             ),\n",
    "#         pml_thickness=[pml_thick, pml_thick, 0, 0, pml_thick, pml_thick])\n",
    "    \n",
    "#     sim_cont = maxwell.fdfd_simulation(\n",
    "#         name=\"sim_{}\".format(\"cont\"),\n",
    "#         simulation_space = simulation_space,\n",
    "#         wavelength=params.wlen,\n",
    "#         sources = sources,\n",
    "#         eps=eps_cont,\n",
    "#         solver=\"maxwell_cg\",\n",
    "#         outputs=outputs,\n",
    "#         background=goos.material.Material(index=1.444),\n",
    "\n",
    "#     )\n",
    "\n"
   ]
  },
  {
   "cell_type": "code",
   "execution_count": null,
   "metadata": {
    "colab": {},
    "colab_type": "code",
    "id": "WDx20a5kMu5p"
   },
   "outputs": [],
   "source": [
    "# obj_c = (1 - goos.abs(sim_cont[\"overlap\"]))**2 #elaborate how simple. It makes difference. This from our experience is the best. Try your options! \n",
    "# obj_c = goos.rename(obj_c, name=\"obj_{}\".format(\"cont\"))\n",
    "    "
   ]
  },
  {
   "cell_type": "code",
   "execution_count": null,
   "metadata": {
    "colab": {},
    "colab_type": "code",
    "id": "Va0elEqEU0yI"
   },
   "outputs": [],
   "source": [
    "# # set-up continuous optimization with scipy\n",
    "# with plan:\n",
    "#     cont_max_iter = 20\n",
    "#     goos.opt.scipy_minimize(\n",
    "#     obj_c,\n",
    "#     \"L-BFGS-B\",\n",
    "#     monitor_list=[sim_cont[\"eps\"], sim_cont[\"field\"], sim_cont[\"overlap\"], obj_c],\n",
    "#     max_iters=cont_max_iter,\n",
    "#     name=\"opt_cont\")\n",
    "\n",
    "#     # Prevent optimization from optimizing over continuous variable.\n",
    "#     var.freeze()\n"
   ]
  },
  {
   "cell_type": "code",
   "execution_count": null,
   "metadata": {
    "colab": {},
    "colab_type": "code",
    "id": "1v6g5VQ-Wrwz"
   },
   "outputs": [],
   "source": [
    "# # set-up discrete optimization with scipy\n",
    "# with plan:\n",
    "#     goos.opt.scipy_minimize(\n",
    "#         obj_d,\n",
    "#         \"L-BFGS-B\",\n",
    "#         monitor_list=[sim_disc[\"eps\"], sim_disc[\"field\"], sim_disc[\"overlap\"], obj_d],\n",
    "#         max_iters=20,\n",
    "#         name=\"opt_disc\",\n",
    "#         ftol=1e-8)"
   ]
  },
  {
   "cell_type": "code",
   "execution_count": null,
   "metadata": {
    "colab": {},
    "colab_type": "code",
    "id": "hDNpv13zWVEi"
   },
   "outputs": [],
   "source": [
    "# run the optimization\n",
    "with plan:\n",
    "    plan.save()\n",
    "    plan.run()"
   ]
  },
  {
   "cell_type": "code",
   "execution_count": null,
   "metadata": {
    "colab": {},
    "colab_type": "code",
    "id": "21wOE3cwgCJy"
   },
   "outputs": [],
   "source": [
    "#visualizing the initial structure permittivity and the field.  \n",
    "with open(os.path.join(folder_plt, \"step{}.pkl\".format(1)), \"rb\") as fp:\n",
    "  data = pickle.load(fp)\n",
    "  \n",
    "  plt.figure(figsize=(10,12))\n",
    "  plt.imshow(\n",
    "      np.rot90(np.abs(data[\"monitor_data\"][\"sim_cont.eps\"][0].squeeze()),1,(0,1)))\n",
    "  plt.axis(\"off\")\n",
    "  plt.tight_layout()\n",
    "  plt.figure(figsize=(10,12))\n",
    "  plt.imshow(\n",
    "      np.rot90(np.abs(\n",
    "        data[\"monitor_data\"][\"sim_cont.field\"][1].squeeze()),1,(0,1)))\n",
    "  plt.axis(\"off\")\n",
    "  plt.tight_layout()\n",
    "  plt.show()\n",
    "  print(\"Overlap transmission value is \" + str(np.abs(data[\"monitor_data\"][\"sim_cont.overlap\"])**2))\n"
   ]
  },
  {
   "cell_type": "code",
   "execution_count": null,
   "metadata": {
    "colab": {},
    "colab_type": "code",
    "id": "VbMvrZiVG5-8"
   },
   "outputs": [],
   "source": [
    "#visualizing end of continous optimization\n",
    "with open(os.path.join(folder_plt, \"step{}.pkl\".format(cont_max_iter)), \"rb\") as fp:\n",
    "  data = pickle.load(fp)\n",
    "  \n",
    "  plt.figure(figsize=(10,12))\n",
    "  plt.imshow(\n",
    "      np.rot90(np.abs(data[\"monitor_data\"][\"sim_cont.eps\"][0].squeeze()),1,(0,1)))\n",
    "  plt.axis(\"off\")\n",
    "  plt.tight_layout()\n",
    "  plt.figure(figsize=(10,12))\n",
    "  plt.imshow(\n",
    "      np.rot90(np.abs(\n",
    "        data[\"monitor_data\"][\"sim_cont.field\"][1].squeeze()),1,(0,1)))\n",
    "  plt.axis(\"off\")\n",
    "  plt.tight_layout()\n",
    "  plt.show()\n",
    "  print(\"Overlap transmission value is \" + str(np.abs(data[\"monitor_data\"][\"sim_cont.overlap\"])**2))"
   ]
  },
  {
   "cell_type": "code",
   "execution_count": null,
   "metadata": {
    "colab": {},
    "colab_type": "code",
    "id": "udM8PGt8G_Mm"
   },
   "outputs": [],
   "source": [
    "#visualizing the structure and the field at the end of the discretization\n",
    "with open(os.path.join(folder_plt, \"step{}.pkl\".format(cont_max_iter+1)), \"rb\") as fp:\n",
    "  data = pickle.load(fp)\n",
    "  \n",
    "  plt.figure(figsize=(10,12))\n",
    "  plt.imshow(\n",
    "      np.rot90(np.abs(data[\"monitor_data\"][\"sim_disc.eps\"][0].squeeze()),1,(0,1)))\n",
    "  plt.axis(\"off\")\n",
    "  plt.tight_layout()\n",
    "  plt.figure(figsize=(10,12))\n",
    "  plt.imshow(\n",
    "      np.rot90(np.abs(\n",
    "        data[\"monitor_data\"][\"sim_disc.field\"][1].squeeze()),1,(0,1)))\n",
    "  plt.axis(\"off\")\n",
    "  plt.tight_layout()\n",
    "  plt.show()\n",
    "  print(\"Overlap transmission value is \" + str(np.abs(data[\"monitor_data\"][\"sim_disc.overlap\"])**2))"
   ]
  },
  {
   "cell_type": "code",
   "execution_count": null,
   "metadata": {
    "colab": {},
    "colab_type": "code",
    "id": "P-adCG6bWiF8"
   },
   "outputs": [],
   "source": [
    "#visualizing the structure and the field at the end of the optimization\n",
    "step = goos.util.get_latest_log_step(folder_plt)\n",
    "with open(os.path.join(folder_plt, \"step{}.pkl\".format(step)), \"rb\") as fp:\n",
    "  data = pickle.load(fp)\n",
    "\n",
    "plt.figure(figsize=(10,12))\n",
    "plt.imshow(\n",
    "    np.rot90(np.abs(data[\"monitor_data\"][\"sim_disc.eps\"][0].squeeze()),1,(0,1)))\n",
    "plt.axis(\"off\")\n",
    "plt.tight_layout()\n",
    "\n",
    "plt.figure(figsize=(10,12))\n",
    "plt.imshow(\n",
    "    np.rot90(np.abs(\n",
    "      data[\"monitor_data\"][\"sim_disc.field\"][1].squeeze()),1,(0,1)))\n",
    "plt.axis(\"off\")\n",
    "plt.tight_layout()\n",
    "\n",
    "plt.show()\n",
    "print(\"Overlap transmission value is \" + str(np.abs(data[\"monitor_data\"][\"sim_disc.overlap\"])**2))\n",
    "\n",
    "\n",
    "    "
   ]
  },
  {
   "cell_type": "code",
   "execution_count": null,
   "metadata": {
    "colab": {},
    "colab_type": "code",
    "id": "AHWjiKbrQzT5"
   },
   "outputs": [],
   "source": [
    "#Reading all pkl files in the saving folder to see optimization trajectory over iterations. \n",
    "disc_last_step = goos.util.get_latest_log_step(folder_plt)\n",
    "transmission = []\n",
    "for step in range(1, cont_max_iter+1):\n",
    "  with open(os.path.join(folder_plt, \"step{}.pkl\".format(step)), \"rb\") as fp:\n",
    "    data = pickle.load(fp)\n",
    "    transmission.append(np.abs(data[\"monitor_data\"][\"sim_cont.overlap\"])**2)\n",
    "for step in range(cont_max_iter+1, int(disc_last_step)+1):\n",
    "  with open(os.path.join(folder_plt, \"step{}.pkl\".format(step)), \"rb\") as fp:\n",
    "    data = pickle.load(fp)\n",
    "    transmission.append(np.abs(data[\"monitor_data\"][\"sim_disc.overlap\"])**2)\n"
   ]
  },
  {
   "cell_type": "code",
   "execution_count": null,
   "metadata": {
    "colab": {},
    "colab_type": "code",
    "id": "DEGG4gVrHQMd"
   },
   "outputs": [],
   "source": [
    "#plotting the overlap values for the all pkl files in the saving folder to see optimization trajectory over iterations. \n",
    "plt.figure(figsize=(12,6))\n",
    "plt.plot(range(1,int(disc_last_step)+1),transmission)\n",
    "plt.xlabel(\"Iteration\")\n",
    "plt.ylabel(\"Transmission\")\n",
    "plt.tight_layout()\n"
   ]
  },
  {
   "cell_type": "code",
   "execution_count": null,
   "metadata": {
    "colab": {},
    "colab_type": "code",
    "id": "IVDPS9-OxiK8"
   },
   "outputs": [],
   "source": []
  }
 ],
 "metadata": {
  "colab": {
   "collapsed_sections": [],
   "name": "grating_1d.ipynb",
   "provenance": []
  },
  "kernelspec": {
   "display_name": "spins-b-3.8",
   "language": "python",
   "name": "spins-b-3.8"
  },
  "language_info": {
   "codemirror_mode": {
    "name": "ipython",
    "version": 3
   },
   "file_extension": ".py",
   "mimetype": "text/x-python",
   "name": "python",
   "nbconvert_exporter": "python",
   "pygments_lexer": "ipython3",
   "version": "3.8.20"
  }
 },
 "nbformat": 4,
 "nbformat_minor": 4
}
